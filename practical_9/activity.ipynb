{
 "cells": [
  {
   "cell_type": "markdown",
   "id": "75c8a1e1-de3e-4b79-b4d3-52e32d9bd09e",
   "metadata": {},
   "source": [
    "SCS2211 - LABORATORY II\n",
    "Practical Sheet - 09"
   ]
  },
  {
   "cell_type": "markdown",
   "id": "00fe102b-4b6c-4599-b5c2-84ac15343b1c",
   "metadata": {},
   "source": [
    "P K M S Thewmika - 22002022"
   ]
  },
  {
   "cell_type": "markdown",
   "id": "a2f487ed-5876-4b41-ba54-f02c308a09a9",
   "metadata": {},
   "source": [
    "Activity 01"
   ]
  },
  {
   "cell_type": "markdown",
   "id": "3feae4e3-d599-4954-9fcd-73a69412661c",
   "metadata": {},
   "source": [
    "1. Download the dataset\n",
    "2. Read the dataset to a variable"
   ]
  },
  {
   "cell_type": "code",
   "execution_count": 43,
   "id": "1b1ec5d4-9cfc-4929-bf9f-7ab8914d65a1",
   "metadata": {
    "vscode": {
     "languageId": "r"
    }
   },
   "outputs": [],
   "source": [
    "data <- read.csv(\"Student Performance new.csv\")"
   ]
  },
  {
   "cell_type": "markdown",
   "id": "b60af375-485f-4a36-be75-81eacadd63a5",
   "metadata": {},
   "source": [
    "3. Change the column names to followings"
   ]
  },
  {
   "cell_type": "code",
   "execution_count": 44,
   "id": "6db4da9f-3988-4b61-af4b-068b953f31ea",
   "metadata": {
    "vscode": {
     "languageId": "r"
    }
   },
   "outputs": [],
   "source": [
    "colnames(data) <- c(\"id\", \"race\", \"edu\", \"lunch\", \"prep\", \"math\", \"read\", \"write\", \"gen\")"
   ]
  },
  {
   "cell_type": "code",
   "execution_count": 45,
   "id": "25ae57b3-8ea1-4087-911f-80bd420da638",
   "metadata": {
    "vscode": {
     "languageId": "r"
    }
   },
   "outputs": [
    {
     "data": {
      "text/html": [
       "<style>\n",
       ".list-inline {list-style: none; margin:0; padding: 0}\n",
       ".list-inline>li {display: inline-block}\n",
       ".list-inline>li:not(:last-child)::after {content: \"\\00b7\"; padding: 0 .5ex}\n",
       "</style>\n",
       "<ol class=list-inline><li>'id'</li><li>'race'</li><li>'edu'</li><li>'lunch'</li><li>'prep'</li><li>'math'</li><li>'read'</li><li>'write'</li><li>'gen'</li></ol>\n"
      ],
      "text/latex": [
       "\\begin{enumerate*}\n",
       "\\item 'id'\n",
       "\\item 'race'\n",
       "\\item 'edu'\n",
       "\\item 'lunch'\n",
       "\\item 'prep'\n",
       "\\item 'math'\n",
       "\\item 'read'\n",
       "\\item 'write'\n",
       "\\item 'gen'\n",
       "\\end{enumerate*}\n"
      ],
      "text/markdown": [
       "1. 'id'\n",
       "2. 'race'\n",
       "3. 'edu'\n",
       "4. 'lunch'\n",
       "5. 'prep'\n",
       "6. 'math'\n",
       "7. 'read'\n",
       "8. 'write'\n",
       "9. 'gen'\n",
       "\n",
       "\n"
      ],
      "text/plain": [
       "[1] \"id\"    \"race\"  \"edu\"   \"lunch\" \"prep\"  \"math\"  \"read\"  \"write\" \"gen\"  "
      ]
     },
     "metadata": {},
     "output_type": "display_data"
    }
   ],
   "source": [
    "colnames(data)"
   ]
  },
  {
   "cell_type": "markdown",
   "id": "30256ef0-07a1-4eac-ac0d-192ad1b12db8",
   "metadata": {},
   "source": [
    "4. Change the math, read and write variables to whole number (Multiply by 100)"
   ]
  },
  {
   "cell_type": "code",
   "execution_count": 46,
   "id": "32c94839-93ef-4868-9381-10d54de1a586",
   "metadata": {
    "vscode": {
     "languageId": "r"
    }
   },
   "outputs": [],
   "source": [
    "data$math <- data$math * 100\n",
    "data$read <- data$read * 100\n",
    "data$write <- data$write * 100"
   ]
  },
  {
   "cell_type": "markdown",
   "id": "3d99c67c-b608-4b64-aab9-6159af6e02f1",
   "metadata": {},
   "source": [
    "5. Create a new attribute average (average of math,read and write)"
   ]
  },
  {
   "cell_type": "code",
   "execution_count": 47,
   "id": "336de71c-0e67-4386-aa11-4f67d0530213",
   "metadata": {
    "vscode": {
     "languageId": "r"
    }
   },
   "outputs": [],
   "source": [
    "data$average <- rowMeans(data[, c(\"math\", \"read\", \"write\")])"
   ]
  },
  {
   "cell_type": "markdown",
   "id": "3e299929-c313-4ea7-835d-6b8f3b7db6b7",
   "metadata": {},
   "source": [
    "6. Find the summary for each mark (math,read and write)"
   ]
  },
  {
   "cell_type": "code",
   "execution_count": 48,
   "id": "3135bbb3-3a00-4a6d-bf6e-8a1d5c799e41",
   "metadata": {
    "vscode": {
     "languageId": "r"
    }
   },
   "outputs": [
    {
     "data": {
      "text/plain": [
       "      math             read            write       \n",
       " Min.   :  0.00   Min.   : 17.00   Min.   : 10.00  \n",
       " 1st Qu.: 57.00   1st Qu.: 59.00   1st Qu.: 57.75  \n",
       " Median : 66.00   Median : 70.00   Median : 69.00  \n",
       " Mean   : 66.09   Mean   : 69.17   Mean   : 68.05  \n",
       " 3rd Qu.: 77.00   3rd Qu.: 79.00   3rd Qu.: 79.00  \n",
       " Max.   :100.00   Max.   :100.00   Max.   :100.00  "
      ]
     },
     "metadata": {},
     "output_type": "display_data"
    }
   ],
   "source": [
    "summary(data[c(\"math\", \"read\", \"write\")])"
   ]
  },
  {
   "cell_type": "markdown",
   "id": "084abb6f-43c0-46d7-89bf-dbfdf639e9ce",
   "metadata": {},
   "source": [
    "7. Find unique values for attributes\n",
    "a. race\n",
    "b. edu\n",
    "c. lunch\n",
    "d. prep\n",
    "e. gen"
   ]
  },
  {
   "cell_type": "code",
   "execution_count": 49,
   "id": "5bcadee8-f107-43e9-bfca-553485800eda",
   "metadata": {
    "vscode": {
     "languageId": "r"
    }
   },
   "outputs": [
    {
     "data": {
      "text/html": [
       "<style>\n",
       ".list-inline {list-style: none; margin:0; padding: 0}\n",
       ".list-inline>li {display: inline-block}\n",
       ".list-inline>li:not(:last-child)::after {content: \"\\00b7\"; padding: 0 .5ex}\n",
       "</style>\n",
       "<ol class=list-inline><li>'group B'</li><li>'group C'</li><li>'group A'</li><li>'group D'</li><li>'group E'</li></ol>\n"
      ],
      "text/latex": [
       "\\begin{enumerate*}\n",
       "\\item 'group B'\n",
       "\\item 'group C'\n",
       "\\item 'group A'\n",
       "\\item 'group D'\n",
       "\\item 'group E'\n",
       "\\end{enumerate*}\n"
      ],
      "text/markdown": [
       "1. 'group B'\n",
       "2. 'group C'\n",
       "3. 'group A'\n",
       "4. 'group D'\n",
       "5. 'group E'\n",
       "\n",
       "\n"
      ],
      "text/plain": [
       "[1] \"group B\" \"group C\" \"group A\" \"group D\" \"group E\""
      ]
     },
     "metadata": {},
     "output_type": "display_data"
    },
    {
     "data": {
      "text/html": [
       "<style>\n",
       ".list-inline {list-style: none; margin:0; padding: 0}\n",
       ".list-inline>li {display: inline-block}\n",
       ".list-inline>li:not(:last-child)::after {content: \"\\00b7\"; padding: 0 .5ex}\n",
       "</style>\n",
       "<ol class=list-inline><li>'bachelor\\'s degree'</li><li>'some college'</li><li>'master\\'s degree'</li><li>'associate\\'s degree'</li><li>'high school'</li><li>'some high school'</li></ol>\n"
      ],
      "text/latex": [
       "\\begin{enumerate*}\n",
       "\\item 'bachelor\\textbackslash{}'s degree'\n",
       "\\item 'some college'\n",
       "\\item 'master\\textbackslash{}'s degree'\n",
       "\\item 'associate\\textbackslash{}'s degree'\n",
       "\\item 'high school'\n",
       "\\item 'some high school'\n",
       "\\end{enumerate*}\n"
      ],
      "text/markdown": [
       "1. 'bachelor\\'s degree'\n",
       "2. 'some college'\n",
       "3. 'master\\'s degree'\n",
       "4. 'associate\\'s degree'\n",
       "5. 'high school'\n",
       "6. 'some high school'\n",
       "\n",
       "\n"
      ],
      "text/plain": [
       "[1] \"bachelor's degree\"  \"some college\"       \"master's degree\"   \n",
       "[4] \"associate's degree\" \"high school\"        \"some high school\"  "
      ]
     },
     "metadata": {},
     "output_type": "display_data"
    },
    {
     "data": {
      "text/html": [
       "<style>\n",
       ".list-inline {list-style: none; margin:0; padding: 0}\n",
       ".list-inline>li {display: inline-block}\n",
       ".list-inline>li:not(:last-child)::after {content: \"\\00b7\"; padding: 0 .5ex}\n",
       "</style>\n",
       "<ol class=list-inline><li>'standard'</li><li>'free/reduced'</li></ol>\n"
      ],
      "text/latex": [
       "\\begin{enumerate*}\n",
       "\\item 'standard'\n",
       "\\item 'free/reduced'\n",
       "\\end{enumerate*}\n"
      ],
      "text/markdown": [
       "1. 'standard'\n",
       "2. 'free/reduced'\n",
       "\n",
       "\n"
      ],
      "text/plain": [
       "[1] \"standard\"     \"free/reduced\""
      ]
     },
     "metadata": {},
     "output_type": "display_data"
    },
    {
     "data": {
      "text/html": [
       "<style>\n",
       ".list-inline {list-style: none; margin:0; padding: 0}\n",
       ".list-inline>li {display: inline-block}\n",
       ".list-inline>li:not(:last-child)::after {content: \"\\00b7\"; padding: 0 .5ex}\n",
       "</style>\n",
       "<ol class=list-inline><li>'none'</li><li>'completed'</li></ol>\n"
      ],
      "text/latex": [
       "\\begin{enumerate*}\n",
       "\\item 'none'\n",
       "\\item 'completed'\n",
       "\\end{enumerate*}\n"
      ],
      "text/markdown": [
       "1. 'none'\n",
       "2. 'completed'\n",
       "\n",
       "\n"
      ],
      "text/plain": [
       "[1] \"none\"      \"completed\""
      ]
     },
     "metadata": {},
     "output_type": "display_data"
    },
    {
     "data": {
      "text/html": [
       "<style>\n",
       ".list-inline {list-style: none; margin:0; padding: 0}\n",
       ".list-inline>li {display: inline-block}\n",
       ".list-inline>li:not(:last-child)::after {content: \"\\00b7\"; padding: 0 .5ex}\n",
       "</style>\n",
       "<ol class=list-inline><li>'F'</li><li>'M'</li></ol>\n"
      ],
      "text/latex": [
       "\\begin{enumerate*}\n",
       "\\item 'F'\n",
       "\\item 'M'\n",
       "\\end{enumerate*}\n"
      ],
      "text/markdown": [
       "1. 'F'\n",
       "2. 'M'\n",
       "\n",
       "\n"
      ],
      "text/plain": [
       "[1] \"F\" \"M\""
      ]
     },
     "metadata": {},
     "output_type": "display_data"
    }
   ],
   "source": [
    "unique(data$race)\n",
    "unique(data$edu)\n",
    "unique(data$lunch)\n",
    "unique(data$prep)\n",
    "unique(data$gen)"
   ]
  },
  {
   "cell_type": "markdown",
   "id": "eaaa06e1-5961-4626-90f5-ca7811d4351c",
   "metadata": {},
   "source": [
    "8. Find average mark for\n",
    "a. race\n",
    "b. edu\n",
    "c. lunch\n",
    "d. prep\n",
    "e. gen"
   ]
  },
  {
   "cell_type": "code",
   "execution_count": 50,
   "id": "232adb2b-d1d3-4c2c-8557-0396a4a4d3d9",
   "metadata": {
    "vscode": {
     "languageId": "r"
    }
   },
   "outputs": [
    {
     "data": {
      "text/html": [
       "<table class=\"dataframe\">\n",
       "<caption>A data.frame: 5 × 2</caption>\n",
       "<thead>\n",
       "\t<tr><th scope=col>race</th><th scope=col>math</th></tr>\n",
       "\t<tr><th scope=col>&lt;chr&gt;</th><th scope=col>&lt;dbl&gt;</th></tr>\n",
       "</thead>\n",
       "<tbody>\n",
       "\t<tr><td>group A</td><td>61.62921</td></tr>\n",
       "\t<tr><td>group B</td><td>63.45263</td></tr>\n",
       "\t<tr><td>group C</td><td>64.46395</td></tr>\n",
       "\t<tr><td>group D</td><td>67.36260</td></tr>\n",
       "\t<tr><td>group E</td><td>73.82143</td></tr>\n",
       "</tbody>\n",
       "</table>\n"
      ],
      "text/latex": [
       "A data.frame: 5 × 2\n",
       "\\begin{tabular}{ll}\n",
       " race & math\\\\\n",
       " <chr> & <dbl>\\\\\n",
       "\\hline\n",
       "\t group A & 61.62921\\\\\n",
       "\t group B & 63.45263\\\\\n",
       "\t group C & 64.46395\\\\\n",
       "\t group D & 67.36260\\\\\n",
       "\t group E & 73.82143\\\\\n",
       "\\end{tabular}\n"
      ],
      "text/markdown": [
       "\n",
       "A data.frame: 5 × 2\n",
       "\n",
       "| race &lt;chr&gt; | math &lt;dbl&gt; |\n",
       "|---|---|\n",
       "| group A | 61.62921 |\n",
       "| group B | 63.45263 |\n",
       "| group C | 64.46395 |\n",
       "| group D | 67.36260 |\n",
       "| group E | 73.82143 |\n",
       "\n"
      ],
      "text/plain": [
       "  race    math    \n",
       "1 group A 61.62921\n",
       "2 group B 63.45263\n",
       "3 group C 64.46395\n",
       "4 group D 67.36260\n",
       "5 group E 73.82143"
      ]
     },
     "metadata": {},
     "output_type": "display_data"
    }
   ],
   "source": [
    "aggregate(math ~ race, data, mean)"
   ]
  },
  {
   "cell_type": "code",
   "execution_count": 51,
   "id": "6f0faa4e-682f-4d1b-9066-62ab1d29a2b7",
   "metadata": {
    "vscode": {
     "languageId": "r"
    }
   },
   "outputs": [
    {
     "data": {
      "text/html": [
       "<table class=\"dataframe\">\n",
       "<caption>A data.frame: 6 × 2</caption>\n",
       "<thead>\n",
       "\t<tr><th scope=col>edu</th><th scope=col>math</th></tr>\n",
       "\t<tr><th scope=col>&lt;chr&gt;</th><th scope=col>&lt;dbl&gt;</th></tr>\n",
       "</thead>\n",
       "<tbody>\n",
       "\t<tr><td>associate's degree</td><td>67.88288</td></tr>\n",
       "\t<tr><td>bachelor's degree </td><td>69.38983</td></tr>\n",
       "\t<tr><td>high school       </td><td>62.13776</td></tr>\n",
       "\t<tr><td>master's degree   </td><td>69.74576</td></tr>\n",
       "\t<tr><td>some college      </td><td>67.12832</td></tr>\n",
       "\t<tr><td>some high school  </td><td>63.49721</td></tr>\n",
       "</tbody>\n",
       "</table>\n"
      ],
      "text/latex": [
       "A data.frame: 6 × 2\n",
       "\\begin{tabular}{ll}\n",
       " edu & math\\\\\n",
       " <chr> & <dbl>\\\\\n",
       "\\hline\n",
       "\t associate's degree & 67.88288\\\\\n",
       "\t bachelor's degree  & 69.38983\\\\\n",
       "\t high school        & 62.13776\\\\\n",
       "\t master's degree    & 69.74576\\\\\n",
       "\t some college       & 67.12832\\\\\n",
       "\t some high school   & 63.49721\\\\\n",
       "\\end{tabular}\n"
      ],
      "text/markdown": [
       "\n",
       "A data.frame: 6 × 2\n",
       "\n",
       "| edu &lt;chr&gt; | math &lt;dbl&gt; |\n",
       "|---|---|\n",
       "| associate's degree | 67.88288 |\n",
       "| bachelor's degree  | 69.38983 |\n",
       "| high school        | 62.13776 |\n",
       "| master's degree    | 69.74576 |\n",
       "| some college       | 67.12832 |\n",
       "| some high school   | 63.49721 |\n",
       "\n"
      ],
      "text/plain": [
       "  edu                math    \n",
       "1 associate's degree 67.88288\n",
       "2 bachelor's degree  69.38983\n",
       "3 high school        62.13776\n",
       "4 master's degree    69.74576\n",
       "5 some college       67.12832\n",
       "6 some high school   63.49721"
      ]
     },
     "metadata": {},
     "output_type": "display_data"
    }
   ],
   "source": [
    "aggregate(math ~ edu, data, mean)"
   ]
  },
  {
   "cell_type": "code",
   "execution_count": 52,
   "id": "51ee2e8f-75d7-4d17-9a34-f0f8c36b3417",
   "metadata": {
    "vscode": {
     "languageId": "r"
    }
   },
   "outputs": [
    {
     "data": {
      "text/html": [
       "<table class=\"dataframe\">\n",
       "<caption>A data.frame: 2 × 2</caption>\n",
       "<thead>\n",
       "\t<tr><th scope=col>lunch</th><th scope=col>math</th></tr>\n",
       "\t<tr><th scope=col>&lt;chr&gt;</th><th scope=col>&lt;dbl&gt;</th></tr>\n",
       "</thead>\n",
       "<tbody>\n",
       "\t<tr><td>free/reduced</td><td>58.92113</td></tr>\n",
       "\t<tr><td>standard    </td><td>70.03411</td></tr>\n",
       "</tbody>\n",
       "</table>\n"
      ],
      "text/latex": [
       "A data.frame: 2 × 2\n",
       "\\begin{tabular}{ll}\n",
       " lunch & math\\\\\n",
       " <chr> & <dbl>\\\\\n",
       "\\hline\n",
       "\t free/reduced & 58.92113\\\\\n",
       "\t standard     & 70.03411\\\\\n",
       "\\end{tabular}\n"
      ],
      "text/markdown": [
       "\n",
       "A data.frame: 2 × 2\n",
       "\n",
       "| lunch &lt;chr&gt; | math &lt;dbl&gt; |\n",
       "|---|---|\n",
       "| free/reduced | 58.92113 |\n",
       "| standard     | 70.03411 |\n",
       "\n"
      ],
      "text/plain": [
       "  lunch        math    \n",
       "1 free/reduced 58.92113\n",
       "2 standard     70.03411"
      ]
     },
     "metadata": {},
     "output_type": "display_data"
    }
   ],
   "source": [
    "aggregate(math ~ lunch, data, mean)"
   ]
  },
  {
   "cell_type": "code",
   "execution_count": 53,
   "id": "74e6be86-b806-4cf6-9c3e-a7dcfd593bc6",
   "metadata": {
    "vscode": {
     "languageId": "r"
    }
   },
   "outputs": [
    {
     "data": {
      "text/html": [
       "<table class=\"dataframe\">\n",
       "<caption>A data.frame: 2 × 2</caption>\n",
       "<thead>\n",
       "\t<tr><th scope=col>prep</th><th scope=col>math</th></tr>\n",
       "\t<tr><th scope=col>&lt;chr&gt;</th><th scope=col>&lt;dbl&gt;</th></tr>\n",
       "</thead>\n",
       "<tbody>\n",
       "\t<tr><td>completed</td><td>69.69553</td></tr>\n",
       "\t<tr><td>none     </td><td>64.07788</td></tr>\n",
       "</tbody>\n",
       "</table>\n"
      ],
      "text/latex": [
       "A data.frame: 2 × 2\n",
       "\\begin{tabular}{ll}\n",
       " prep & math\\\\\n",
       " <chr> & <dbl>\\\\\n",
       "\\hline\n",
       "\t completed & 69.69553\\\\\n",
       "\t none      & 64.07788\\\\\n",
       "\\end{tabular}\n"
      ],
      "text/markdown": [
       "\n",
       "A data.frame: 2 × 2\n",
       "\n",
       "| prep &lt;chr&gt; | math &lt;dbl&gt; |\n",
       "|---|---|\n",
       "| completed | 69.69553 |\n",
       "| none      | 64.07788 |\n",
       "\n"
      ],
      "text/plain": [
       "  prep      math    \n",
       "1 completed 69.69553\n",
       "2 none      64.07788"
      ]
     },
     "metadata": {},
     "output_type": "display_data"
    }
   ],
   "source": [
    "aggregate(math ~ prep, data, mean)"
   ]
  },
  {
   "cell_type": "code",
   "execution_count": 54,
   "id": "f3537fb6-0135-461b-9877-ae09973aa94a",
   "metadata": {},
   "outputs": [
    {
     "data": {
      "text/html": [
       "<table class=\"dataframe\">\n",
       "<caption>A data.frame: 2 × 2</caption>\n",
       "<thead>\n",
       "\t<tr><th scope=col>gen</th><th scope=col>math</th></tr>\n",
       "\t<tr><th scope=col>&lt;chr&gt;</th><th scope=col>&lt;dbl&gt;</th></tr>\n",
       "</thead>\n",
       "<tbody>\n",
       "\t<tr><td>F</td><td>63.63320</td></tr>\n",
       "\t<tr><td>M</td><td>68.72822</td></tr>\n",
       "</tbody>\n",
       "</table>\n"
      ],
      "text/latex": [
       "A data.frame: 2 × 2\n",
       "\\begin{tabular}{ll}\n",
       " gen & math\\\\\n",
       " <chr> & <dbl>\\\\\n",
       "\\hline\n",
       "\t F & 63.63320\\\\\n",
       "\t M & 68.72822\\\\\n",
       "\\end{tabular}\n"
      ],
      "text/markdown": [
       "\n",
       "A data.frame: 2 × 2\n",
       "\n",
       "| gen &lt;chr&gt; | math &lt;dbl&gt; |\n",
       "|---|---|\n",
       "| F | 63.63320 |\n",
       "| M | 68.72822 |\n",
       "\n"
      ],
      "text/plain": [
       "  gen math    \n",
       "1 F   63.63320\n",
       "2 M   68.72822"
      ]
     },
     "metadata": {},
     "output_type": "display_data"
    }
   ],
   "source": [
    "aggregate(math ~ gen, data, mean)"
   ]
  },
  {
   "cell_type": "markdown",
   "id": "bdaea31d-eeec-4b38-b0d8-49514cd56560",
   "metadata": {},
   "source": [
    "Activity 02"
   ]
  },
  {
   "cell_type": "markdown",
   "id": "6b627a5c-de41-4cdb-b8b0-29caf65e5abe",
   "metadata": {},
   "source": [
    "1. Download the dataset\n",
    "2. Read the dataset to a variable"
   ]
  },
  {
   "cell_type": "code",
   "execution_count": 55,
   "id": "3dc19f98-8e34-48ab-87e9-c90dd30bc1b2",
   "metadata": {},
   "outputs": [],
   "source": [
    "dataset <- read.csv(\"melb_data.csv\")"
   ]
  },
  {
   "cell_type": "markdown",
   "id": "8eac5bff-92ee-44b3-94d4-c0ac1c440c94",
   "metadata": {},
   "source": [
    "3. Print first few values of the dataset"
   ]
  },
  {
   "cell_type": "code",
   "execution_count": 56,
   "id": "f572dbe8-1dc0-43a2-85f0-f7fdd4ec9939",
   "metadata": {},
   "outputs": [
    {
     "data": {
      "text/html": [
       "<table class=\"dataframe\">\n",
       "<caption>A data.frame: 6 × 21</caption>\n",
       "<thead>\n",
       "\t<tr><th></th><th scope=col>Suburb</th><th scope=col>Address</th><th scope=col>Rooms</th><th scope=col>Type</th><th scope=col>Price</th><th scope=col>Method</th><th scope=col>SellerG</th><th scope=col>Date</th><th scope=col>Distance</th><th scope=col>Postcode</th><th scope=col>⋯</th><th scope=col>Bathroom</th><th scope=col>Car</th><th scope=col>Landsize</th><th scope=col>BuildingArea</th><th scope=col>YearBuilt</th><th scope=col>CouncilArea</th><th scope=col>Lattitude</th><th scope=col>Longtitude</th><th scope=col>Regionname</th><th scope=col>Propertycount</th></tr>\n",
       "\t<tr><th></th><th scope=col>&lt;chr&gt;</th><th scope=col>&lt;chr&gt;</th><th scope=col>&lt;int&gt;</th><th scope=col>&lt;chr&gt;</th><th scope=col>&lt;dbl&gt;</th><th scope=col>&lt;chr&gt;</th><th scope=col>&lt;chr&gt;</th><th scope=col>&lt;chr&gt;</th><th scope=col>&lt;dbl&gt;</th><th scope=col>&lt;dbl&gt;</th><th scope=col>⋯</th><th scope=col>&lt;dbl&gt;</th><th scope=col>&lt;dbl&gt;</th><th scope=col>&lt;dbl&gt;</th><th scope=col>&lt;dbl&gt;</th><th scope=col>&lt;dbl&gt;</th><th scope=col>&lt;chr&gt;</th><th scope=col>&lt;dbl&gt;</th><th scope=col>&lt;dbl&gt;</th><th scope=col>&lt;chr&gt;</th><th scope=col>&lt;dbl&gt;</th></tr>\n",
       "</thead>\n",
       "<tbody>\n",
       "\t<tr><th scope=row>1</th><td>Abbotsford</td><td>85 Turner St    </td><td>2</td><td>h</td><td>1480000</td><td>S </td><td>Biggin</td><td>3/12/2016</td><td>2.5</td><td>3067</td><td>⋯</td><td>1</td><td>1</td><td>202</td><td> NA</td><td>  NA</td><td>Yarra</td><td>-37.7996</td><td>144.9984</td><td>Northern Metropolitan</td><td>4019</td></tr>\n",
       "\t<tr><th scope=row>2</th><td>Abbotsford</td><td>25 Bloomburg St </td><td>2</td><td>h</td><td>1035000</td><td>S </td><td>Biggin</td><td>4/02/2016</td><td>2.5</td><td>3067</td><td>⋯</td><td>1</td><td>0</td><td>156</td><td> 79</td><td>1900</td><td>Yarra</td><td>-37.8079</td><td>144.9934</td><td>Northern Metropolitan</td><td>4019</td></tr>\n",
       "\t<tr><th scope=row>3</th><td>Abbotsford</td><td>5 Charles St    </td><td>3</td><td>h</td><td>1465000</td><td>SP</td><td>Biggin</td><td>4/03/2017</td><td>2.5</td><td>3067</td><td>⋯</td><td>2</td><td>0</td><td>134</td><td>150</td><td>1900</td><td>Yarra</td><td>-37.8093</td><td>144.9944</td><td>Northern Metropolitan</td><td>4019</td></tr>\n",
       "\t<tr><th scope=row>4</th><td>Abbotsford</td><td>40 Federation La</td><td>3</td><td>h</td><td> 850000</td><td>PI</td><td>Biggin</td><td>4/03/2017</td><td>2.5</td><td>3067</td><td>⋯</td><td>2</td><td>1</td><td> 94</td><td> NA</td><td>  NA</td><td>Yarra</td><td>-37.7969</td><td>144.9969</td><td>Northern Metropolitan</td><td>4019</td></tr>\n",
       "\t<tr><th scope=row>5</th><td>Abbotsford</td><td>55a Park St     </td><td>4</td><td>h</td><td>1600000</td><td>VB</td><td>Nelson</td><td>4/06/2016</td><td>2.5</td><td>3067</td><td>⋯</td><td>1</td><td>2</td><td>120</td><td>142</td><td>2014</td><td>Yarra</td><td>-37.8072</td><td>144.9941</td><td>Northern Metropolitan</td><td>4019</td></tr>\n",
       "\t<tr><th scope=row>6</th><td>Abbotsford</td><td>129 Charles St  </td><td>2</td><td>h</td><td> 941000</td><td>S </td><td>Jellis</td><td>7/05/2016</td><td>2.5</td><td>3067</td><td>⋯</td><td>1</td><td>0</td><td>181</td><td> NA</td><td>  NA</td><td>Yarra</td><td>-37.8041</td><td>144.9953</td><td>Northern Metropolitan</td><td>4019</td></tr>\n",
       "</tbody>\n",
       "</table>\n"
      ],
      "text/latex": [
       "A data.frame: 6 × 21\n",
       "\\begin{tabular}{r|lllllllllllllllllllll}\n",
       "  & Suburb & Address & Rooms & Type & Price & Method & SellerG & Date & Distance & Postcode & ⋯ & Bathroom & Car & Landsize & BuildingArea & YearBuilt & CouncilArea & Lattitude & Longtitude & Regionname & Propertycount\\\\\n",
       "  & <chr> & <chr> & <int> & <chr> & <dbl> & <chr> & <chr> & <chr> & <dbl> & <dbl> & ⋯ & <dbl> & <dbl> & <dbl> & <dbl> & <dbl> & <chr> & <dbl> & <dbl> & <chr> & <dbl>\\\\\n",
       "\\hline\n",
       "\t1 & Abbotsford & 85 Turner St     & 2 & h & 1480000 & S  & Biggin & 3/12/2016 & 2.5 & 3067 & ⋯ & 1 & 1 & 202 &  NA &   NA & Yarra & -37.7996 & 144.9984 & Northern Metropolitan & 4019\\\\\n",
       "\t2 & Abbotsford & 25 Bloomburg St  & 2 & h & 1035000 & S  & Biggin & 4/02/2016 & 2.5 & 3067 & ⋯ & 1 & 0 & 156 &  79 & 1900 & Yarra & -37.8079 & 144.9934 & Northern Metropolitan & 4019\\\\\n",
       "\t3 & Abbotsford & 5 Charles St     & 3 & h & 1465000 & SP & Biggin & 4/03/2017 & 2.5 & 3067 & ⋯ & 2 & 0 & 134 & 150 & 1900 & Yarra & -37.8093 & 144.9944 & Northern Metropolitan & 4019\\\\\n",
       "\t4 & Abbotsford & 40 Federation La & 3 & h &  850000 & PI & Biggin & 4/03/2017 & 2.5 & 3067 & ⋯ & 2 & 1 &  94 &  NA &   NA & Yarra & -37.7969 & 144.9969 & Northern Metropolitan & 4019\\\\\n",
       "\t5 & Abbotsford & 55a Park St      & 4 & h & 1600000 & VB & Nelson & 4/06/2016 & 2.5 & 3067 & ⋯ & 1 & 2 & 120 & 142 & 2014 & Yarra & -37.8072 & 144.9941 & Northern Metropolitan & 4019\\\\\n",
       "\t6 & Abbotsford & 129 Charles St   & 2 & h &  941000 & S  & Jellis & 7/05/2016 & 2.5 & 3067 & ⋯ & 1 & 0 & 181 &  NA &   NA & Yarra & -37.8041 & 144.9953 & Northern Metropolitan & 4019\\\\\n",
       "\\end{tabular}\n"
      ],
      "text/markdown": [
       "\n",
       "A data.frame: 6 × 21\n",
       "\n",
       "| <!--/--> | Suburb &lt;chr&gt; | Address &lt;chr&gt; | Rooms &lt;int&gt; | Type &lt;chr&gt; | Price &lt;dbl&gt; | Method &lt;chr&gt; | SellerG &lt;chr&gt; | Date &lt;chr&gt; | Distance &lt;dbl&gt; | Postcode &lt;dbl&gt; | ⋯ ⋯ | Bathroom &lt;dbl&gt; | Car &lt;dbl&gt; | Landsize &lt;dbl&gt; | BuildingArea &lt;dbl&gt; | YearBuilt &lt;dbl&gt; | CouncilArea &lt;chr&gt; | Lattitude &lt;dbl&gt; | Longtitude &lt;dbl&gt; | Regionname &lt;chr&gt; | Propertycount &lt;dbl&gt; |\n",
       "|---|---|---|---|---|---|---|---|---|---|---|---|---|---|---|---|---|---|---|---|---|---|\n",
       "| 1 | Abbotsford | 85 Turner St     | 2 | h | 1480000 | S  | Biggin | 3/12/2016 | 2.5 | 3067 | ⋯ | 1 | 1 | 202 |  NA |   NA | Yarra | -37.7996 | 144.9984 | Northern Metropolitan | 4019 |\n",
       "| 2 | Abbotsford | 25 Bloomburg St  | 2 | h | 1035000 | S  | Biggin | 4/02/2016 | 2.5 | 3067 | ⋯ | 1 | 0 | 156 |  79 | 1900 | Yarra | -37.8079 | 144.9934 | Northern Metropolitan | 4019 |\n",
       "| 3 | Abbotsford | 5 Charles St     | 3 | h | 1465000 | SP | Biggin | 4/03/2017 | 2.5 | 3067 | ⋯ | 2 | 0 | 134 | 150 | 1900 | Yarra | -37.8093 | 144.9944 | Northern Metropolitan | 4019 |\n",
       "| 4 | Abbotsford | 40 Federation La | 3 | h |  850000 | PI | Biggin | 4/03/2017 | 2.5 | 3067 | ⋯ | 2 | 1 |  94 |  NA |   NA | Yarra | -37.7969 | 144.9969 | Northern Metropolitan | 4019 |\n",
       "| 5 | Abbotsford | 55a Park St      | 4 | h | 1600000 | VB | Nelson | 4/06/2016 | 2.5 | 3067 | ⋯ | 1 | 2 | 120 | 142 | 2014 | Yarra | -37.8072 | 144.9941 | Northern Metropolitan | 4019 |\n",
       "| 6 | Abbotsford | 129 Charles St   | 2 | h |  941000 | S  | Jellis | 7/05/2016 | 2.5 | 3067 | ⋯ | 1 | 0 | 181 |  NA |   NA | Yarra | -37.8041 | 144.9953 | Northern Metropolitan | 4019 |\n",
       "\n"
      ],
      "text/plain": [
       "  Suburb     Address          Rooms Type Price   Method SellerG Date     \n",
       "1 Abbotsford 85 Turner St     2     h    1480000 S      Biggin  3/12/2016\n",
       "2 Abbotsford 25 Bloomburg St  2     h    1035000 S      Biggin  4/02/2016\n",
       "3 Abbotsford 5 Charles St     3     h    1465000 SP     Biggin  4/03/2017\n",
       "4 Abbotsford 40 Federation La 3     h     850000 PI     Biggin  4/03/2017\n",
       "5 Abbotsford 55a Park St      4     h    1600000 VB     Nelson  4/06/2016\n",
       "6 Abbotsford 129 Charles St   2     h     941000 S      Jellis  7/05/2016\n",
       "  Distance Postcode ⋯ Bathroom Car Landsize BuildingArea YearBuilt CouncilArea\n",
       "1 2.5      3067     ⋯ 1        1   202       NA            NA      Yarra      \n",
       "2 2.5      3067     ⋯ 1        0   156       79          1900      Yarra      \n",
       "3 2.5      3067     ⋯ 2        0   134      150          1900      Yarra      \n",
       "4 2.5      3067     ⋯ 2        1    94       NA            NA      Yarra      \n",
       "5 2.5      3067     ⋯ 1        2   120      142          2014      Yarra      \n",
       "6 2.5      3067     ⋯ 1        0   181       NA            NA      Yarra      \n",
       "  Lattitude Longtitude Regionname            Propertycount\n",
       "1 -37.7996  144.9984   Northern Metropolitan 4019         \n",
       "2 -37.8079  144.9934   Northern Metropolitan 4019         \n",
       "3 -37.8093  144.9944   Northern Metropolitan 4019         \n",
       "4 -37.7969  144.9969   Northern Metropolitan 4019         \n",
       "5 -37.8072  144.9941   Northern Metropolitan 4019         \n",
       "6 -37.8041  144.9953   Northern Metropolitan 4019         "
      ]
     },
     "metadata": {},
     "output_type": "display_data"
    }
   ],
   "source": [
    "head(dataset)"
   ]
  },
  {
   "cell_type": "markdown",
   "id": "847ace3e-8c9e-4d3a-a80d-4a53ec021408",
   "metadata": {},
   "source": [
    "4. Find number of missing values in each attribute"
   ]
  },
  {
   "cell_type": "code",
   "execution_count": 57,
   "id": "7da7e93f-20cc-424f-810f-1ccd230d398f",
   "metadata": {},
   "outputs": [
    {
     "name": "stdout",
     "output_type": "stream",
     "text": [
      "       Suburb       Address         Rooms          Type         Price \n",
      "            0             0             0             0             0 \n",
      "       Method       SellerG          Date      Distance      Postcode \n",
      "            0             0             0             0             0 \n",
      "     Bedroom2      Bathroom           Car      Landsize  BuildingArea \n",
      "            0             0            62             0          6450 \n",
      "    YearBuilt   CouncilArea     Lattitude    Longtitude    Regionname \n",
      "         5375             0             0             0             0 \n",
      "Propertycount \n",
      "            0 \n"
     ]
    }
   ],
   "source": [
    "missingValues <- colSums(is.na(dataset))\n",
    "print(missingValues)"
   ]
  },
  {
   "cell_type": "markdown",
   "id": "f67571a8-acfb-4911-b6fa-be4246e7a3d6",
   "metadata": {},
   "source": [
    "5. Find the mean value for “YearBuilt”"
   ]
  },
  {
   "cell_type": "code",
   "execution_count": 58,
   "id": "be749892-5af6-4933-bce0-c5e7224848c2",
   "metadata": {},
   "outputs": [
    {
     "name": "stdout",
     "output_type": "stream",
     "text": [
      "[1] 1964.684\n"
     ]
    }
   ],
   "source": [
    "meanYearBuilt <- mean(dataset$YearBuilt, na.rm = TRUE)\n",
    "print(meanYearBuilt)"
   ]
  },
  {
   "cell_type": "markdown",
   "id": "22db8229-f4d0-4b86-8a03-88a125772838",
   "metadata": {},
   "source": [
    "Activity 03"
   ]
  },
  {
   "cell_type": "markdown",
   "id": "0765ecf1-4ac0-401b-9050-73dfbad359ff",
   "metadata": {},
   "source": [
    "1. Create the following dataframe (emp_sal)"
   ]
  },
  {
   "cell_type": "code",
   "execution_count": 59,
   "id": "a9afd21a-f271-4d6e-ae7e-5df61c861a85",
   "metadata": {},
   "outputs": [],
   "source": [
    "emp_sal <- data.frame(\n",
    "    EmpId <- c(11, 12, 13, 14, 15),\n",
    "    Dep <- c(\"Sales\", \"HR\", \"Sales\", \"HR\", \"Sales\"),\n",
    "    Basic <- c(25450, 22500, 21000, 23500, 15000),\n",
    "    Allowances <- c(5200, 4500, 3100, 2600, 1800)\n",
    ")"
   ]
  },
  {
   "cell_type": "markdown",
   "id": "1704ca40-7cb6-4963-9afa-818fbeb3f139",
   "metadata": {},
   "source": [
    "2. Store net salary in new column named “net_sal”"
   ]
  },
  {
   "cell_type": "code",
   "execution_count": 60,
   "id": "52e8a545-0557-4183-b8a7-944c3dff4b40",
   "metadata": {},
   "outputs": [],
   "source": [
    "emp_sal$net_sal <- emp_sal$Basic + emp_sal$Allowances"
   ]
  },
  {
   "cell_type": "markdown",
   "id": "31bdc600-e68a-4451-ba21-ce77be4a6d79",
   "metadata": {},
   "source": [
    "3. Obtain net salaries of employees attached to sales department"
   ]
  },
  {
   "cell_type": "code",
   "execution_count": 61,
   "id": "d53eaa5a-a687-40dd-bcd6-bd86bbc09b34",
   "metadata": {},
   "outputs": [
    {
     "data": {
      "text/html": [
       "<table class=\"dataframe\">\n",
       "<caption>A data.frame: 3 × 1</caption>\n",
       "<thead>\n",
       "\t<tr><th></th><th scope=col>net_sal</th></tr>\n",
       "\t<tr><th></th><th scope=col>&lt;dbl&gt;</th></tr>\n",
       "</thead>\n",
       "<tbody>\n",
       "\t<tr><th scope=row>1</th><td>30650</td></tr>\n",
       "\t<tr><th scope=row>3</th><td>24100</td></tr>\n",
       "\t<tr><th scope=row>5</th><td>16800</td></tr>\n",
       "</tbody>\n",
       "</table>\n"
      ],
      "text/latex": [
       "A data.frame: 3 × 1\n",
       "\\begin{tabular}{r|l}\n",
       "  & net\\_sal\\\\\n",
       "  & <dbl>\\\\\n",
       "\\hline\n",
       "\t1 & 30650\\\\\n",
       "\t3 & 24100\\\\\n",
       "\t5 & 16800\\\\\n",
       "\\end{tabular}\n"
      ],
      "text/markdown": [
       "\n",
       "A data.frame: 3 × 1\n",
       "\n",
       "| <!--/--> | net_sal &lt;dbl&gt; |\n",
       "|---|---|\n",
       "| 1 | 30650 |\n",
       "| 3 | 24100 |\n",
       "| 5 | 16800 |\n",
       "\n"
      ],
      "text/plain": [
       "  net_sal\n",
       "1 30650  \n",
       "3 24100  \n",
       "5 16800  "
      ]
     },
     "metadata": {},
     "output_type": "display_data"
    }
   ],
   "source": [
    "subset(emp_sal, Dep == \"Sales\", select = \"net_sal\")"
   ]
  },
  {
   "cell_type": "markdown",
   "id": "634fd9f4-4a1e-4149-a222-cb601bfac7d7",
   "metadata": {},
   "source": [
    "4. Obtain employee IDs of employees whose net salary is above 25000"
   ]
  },
  {
   "cell_type": "code",
   "execution_count": 62,
   "id": "c69ff0bd-af52-44cf-936f-9375c0d2f43c",
   "metadata": {},
   "outputs": [
    {
     "data": {
      "text/html": [
       "<style>\n",
       ".list-inline {list-style: none; margin:0; padding: 0}\n",
       ".list-inline>li {display: inline-block}\n",
       ".list-inline>li:not(:last-child)::after {content: \"\\00b7\"; padding: 0 .5ex}\n",
       "</style>\n",
       "<ol class=list-inline><li>11</li><li>12</li><li>14</li></ol>\n"
      ],
      "text/latex": [
       "\\begin{enumerate*}\n",
       "\\item 11\n",
       "\\item 12\n",
       "\\item 14\n",
       "\\end{enumerate*}\n"
      ],
      "text/markdown": [
       "1. 11\n",
       "2. 12\n",
       "3. 14\n",
       "\n",
       "\n"
      ],
      "text/plain": [
       "[1] 11 12 14"
      ]
     },
     "metadata": {},
     "output_type": "display_data"
    }
   ],
   "source": [
    "emp_sal$EmpId [emp_sal$net_sal > 25000]"
   ]
  },
  {
   "cell_type": "markdown",
   "id": "ac92841e-60d5-4cb3-8066-d4f4ac50c9b9",
   "metadata": {},
   "source": [
    "5. Obtain employee IDs of employees attached to HR Department whose net salary is\n",
    "below 25000"
   ]
  },
  {
   "cell_type": "code",
   "execution_count": 63,
   "id": "17fd4885-8c04-439e-a76c-b7b37bac1cb1",
   "metadata": {},
   "outputs": [
    {
     "data": {
      "text/html": [],
      "text/latex": [],
      "text/markdown": [],
      "text/plain": [
       "numeric(0)"
      ]
     },
     "metadata": {},
     "output_type": "display_data"
    }
   ],
   "source": [
    "emp_sal$EmpId [emp_sal$Dep==\"HR\" & emp_sal$net_sal < 25000 ]"
   ]
  }
 ],
 "metadata": {
  "kernelspec": {
   "display_name": "R",
   "language": "R",
   "name": "ir"
  },
  "language_info": {
   "codemirror_mode": "r",
   "file_extension": ".r",
   "mimetype": "text/x-r-source",
   "name": "R",
   "pygments_lexer": "r",
   "version": "4.4.2"
  }
 },
 "nbformat": 4,
 "nbformat_minor": 5
}
